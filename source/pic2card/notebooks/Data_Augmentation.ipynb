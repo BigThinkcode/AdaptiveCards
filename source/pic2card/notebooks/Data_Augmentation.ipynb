{
 "cells": [
  {
   "cell_type": "code",
   "execution_count": null,
   "id": "sexual-audio",
   "metadata": {},
   "outputs": [],
   "source": [
    "import numpy as np\n",
    "import pandas as pd\n",
    "from PIL import Image\n",
    "from IPython import display\n",
    "\n",
    "import matplotlib.pyplot as plt\n",
    "\n",
    "%matplotlib inline"
   ]
  },
  {
   "cell_type": "code",
   "execution_count": null,
   "id": "ordered-tulsa",
   "metadata": {},
   "outputs": [],
   "source": [
    "# Installed directly form the tf-models object_detection, no\n",
    "# direct pip package available.\n",
    "import object_detection as od\n",
    "from object_detection.core.preprocessor import (random_horizontal_flip, random_pixel_value_scale, random_adjust_contrast, random_adjust_hue,\n",
    "                                                random_rgb_to_gray, random_crop_image, random_adjust_brightness, random_adjust_saturation,\n",
    "                                               random_adjust_saturation, random_horizontal_flip, random_vertical_flip, random_distort_color,\n",
    "                                               random_downscale_to_target_pixels, random_image_scale, random_jitter_boxes, random_jpeg_quality,\n",
    "                                               adjust_gamma, random_downscale_to_target_pixels, random_patch_gaussian)"
   ]
  },
  {
   "cell_type": "code",
   "execution_count": null,
   "id": "modified-logistics",
   "metadata": {},
   "outputs": [],
   "source": []
  },
  {
   "cell_type": "code",
   "execution_count": null,
   "id": "knowing-favor",
   "metadata": {},
   "outputs": [],
   "source": [
    "image = Image.open(\"/home/haridas/projects/mystique/data/pic2card_dataset_03_mar_2021/train/10.png\")"
   ]
  },
  {
   "cell_type": "code",
   "execution_count": null,
   "id": "further-click",
   "metadata": {},
   "outputs": [],
   "source": []
  },
  {
   "cell_type": "code",
   "execution_count": null,
   "id": "asian-dinner",
   "metadata": {},
   "outputs": [],
   "source": []
  },
  {
   "cell_type": "code",
   "execution_count": null,
   "id": "theoretical-monthly",
   "metadata": {},
   "outputs": [],
   "source": [
    "# Image.fromarray(np.asarray(image))"
   ]
  },
  {
   "cell_type": "code",
   "execution_count": null,
   "id": "standard-alaska",
   "metadata": {},
   "outputs": [],
   "source": [
    "# plt.figure(figsize=(5,4)); plt.imshow(np.asarray(image))"
   ]
  },
  {
   "cell_type": "code",
   "execution_count": null,
   "id": "contained-stable",
   "metadata": {},
   "outputs": [],
   "source": [
    "image_hue = random_adjust_contrast(np.asarray(image), min_delta=1, max_delta=5, seed=10).numpy()\n",
    "plt.figure(figsize=(10,8))\n",
    "plt.imshow(np.uint8(image_hue))"
   ]
  },
  {
   "cell_type": "code",
   "execution_count": null,
   "id": "assigned-french",
   "metadata": {},
   "outputs": [],
   "source": [
    "image_hue = random_adjust_hue(np.asarray(image), max_delta=1.0, seed=10).numpy()\n",
    "plt.figure(figsize=(5,4))\n",
    "# plt.imshow(image_hue)\n",
    "plt.imshow(np.uint8(image_hue))"
   ]
  },
  {
   "cell_type": "code",
   "execution_count": null,
   "id": "accurate-shopper",
   "metadata": {},
   "outputs": [],
   "source": [
    "image_hue = random_adjust_saturation(np.asarray(image), min_delta=0.8, max_delta=1.8, seed=10).numpy()\n",
    "plt.figure(figsize=(10,8))\n",
    "plt.imshow(np.uint8(image_hue))"
   ]
  },
  {
   "cell_type": "code",
   "execution_count": null,
   "id": "continuing-cheese",
   "metadata": {},
   "outputs": [],
   "source": [
    "image_hue = random_rgb_to_gray(np.asarray(image), probability=0.8, seed=10)\n",
    "plt.figure(figsize=(5,4))\n",
    "plt.imshow(np.uint8(image_hue))"
   ]
  },
  {
   "cell_type": "code",
   "execution_count": null,
   "id": "recovered-impossible",
   "metadata": {},
   "outputs": [],
   "source": []
  },
  {
   "cell_type": "code",
   "execution_count": null,
   "id": "athletic-bonus",
   "metadata": {},
   "outputs": [],
   "source": [
    "image_hue = random_adjust_brightness(np.asarray(image), max_delta=0.2, seed=10)\n",
    "plt.figure(figsize=(6,4))\n",
    "plt.imshow(np.uint8(image_hue))"
   ]
  },
  {
   "cell_type": "code",
   "execution_count": null,
   "id": "alleged-charge",
   "metadata": {},
   "outputs": [],
   "source": [
    "# random_horizontal_flip?\n",
    "np.asarray(image).shape"
   ]
  },
  {
   "cell_type": "code",
   "execution_count": null,
   "id": "young-floor",
   "metadata": {},
   "outputs": [],
   "source": [
    "image_h = random_horizontal_flip(np.asarray(image))[0]\n",
    "plt.figure(figsize=(5,4))\n",
    "plt.imshow(np.uint8(image_h))"
   ]
  },
  {
   "cell_type": "code",
   "execution_count": null,
   "id": "incoming-paraguay",
   "metadata": {},
   "outputs": [],
   "source": [
    "# image_h = random_vertical_flip(np.asarray(image))[0]\n",
    "# plt.figure(figsize=(5,4))\n",
    "# plt.imshow(np.uint8(image_h))"
   ]
  },
  {
   "cell_type": "code",
   "execution_count": null,
   "id": "together-alberta",
   "metadata": {},
   "outputs": [],
   "source": [
    "image_h = random_pixel_value_scale(np.asarray(image), minval=1.0, maxval=1.2)\n",
    "plt.figure(figsize=(10,8))\n",
    "print(image_h.shape)\n",
    "plt.imshow(np.uint8(image_h))"
   ]
  },
  {
   "cell_type": "code",
   "execution_count": null,
   "id": "norwegian-president",
   "metadata": {},
   "outputs": [],
   "source": [
    "# Image.fromarray(np.uint8(image_h))\n",
    "# random_image_scale?"
   ]
  },
  {
   "cell_type": "code",
   "execution_count": null,
   "id": "relevant-resort",
   "metadata": {},
   "outputs": [],
   "source": [
    "image_h = random_image_scale(np.asarray(image), min_scale_ratio=0.8, max_scale_ratio=1.9, seed=122)[0]\n",
    "plt.figure(figsize=(10,8))\n",
    "# plt.imshow(np.uint8(image_h))\n",
    "print (image_h.shape)"
   ]
  },
  {
   "cell_type": "code",
   "execution_count": null,
   "id": "genuine-tennis",
   "metadata": {},
   "outputs": [],
   "source": [
    "# image_h = adjust_gamma(np.asarray(image), gamma=8, gain=2)\n",
    "# plt.figure(figsize=(5,4))\n",
    "# plt.imshow(np.uint8(image_h))"
   ]
  },
  {
   "cell_type": "code",
   "execution_count": null,
   "id": "hindu-amber",
   "metadata": {},
   "outputs": [],
   "source": [
    "image_h = random_distort_color(np.asarray(image))\n",
    "plt.figure(figsize=(10,8))\n",
    "plt.imshow(np.uint8(image_h))"
   ]
  },
  {
   "cell_type": "code",
   "execution_count": null,
   "id": "secondary-special",
   "metadata": {},
   "outputs": [],
   "source": [
    "# np.uint8(image_h.numpy())"
   ]
  },
  {
   "cell_type": "code",
   "execution_count": null,
   "id": "meaningful-admission",
   "metadata": {},
   "outputs": [],
   "source": [
    "# image_h = random_patch_gaussian(np.asarray(image))\n",
    "# plt.figure(figsize=(10,8))\n",
    "# plt.imshow(np.uint8(image_h))"
   ]
  },
  {
   "cell_type": "code",
   "execution_count": null,
   "id": "flexible-mexico",
   "metadata": {},
   "outputs": [],
   "source": []
  },
  {
   "cell_type": "code",
   "execution_count": null,
   "id": "allied-freeware",
   "metadata": {},
   "outputs": [],
   "source": []
  },
  {
   "cell_type": "code",
   "execution_count": null,
   "id": "reasonable-ecuador",
   "metadata": {},
   "outputs": [],
   "source": [
    "# plt.imshow(np.asarray(image.convert(\"RGB\")))"
   ]
  },
  {
   "cell_type": "code",
   "execution_count": null,
   "id": "nuclear-convention",
   "metadata": {},
   "outputs": [],
   "source": [
    "# image_h.numpy()\n",
    "image_h = random_jpeg_quality(np.asarray(image.convert(\"RGB\")), min_jpeg_quality=40, max_jpeg_quality=100)\n",
    "# Image.fromarray(np.uint8(image_h.numpy()))\n",
    "plt.figure(figsize=(10,8))\n",
    "print(image_h.shape)\n",
    "plt.imshow(np.uint8(image_h))"
   ]
  },
  {
   "cell_type": "code",
   "execution_count": null,
   "id": "friendly-border",
   "metadata": {},
   "outputs": [],
   "source": [
    "random_downscale_to_target_pixels?"
   ]
  },
  {
   "cell_type": "code",
   "execution_count": null,
   "id": "junior-uncertainty",
   "metadata": {},
   "outputs": [],
   "source": [
    "image_h = random_downscale_to_target_pixels(np.asarray(image), min_target_pixels=2000000, max_target_pixels=30000000)\n",
    "print(image_h.shape)\n",
    "Image.fromarray(np.uint8(image_h.numpy()))"
   ]
  },
  {
   "cell_type": "code",
   "execution_count": null,
   "id": "boxed-canberra",
   "metadata": {},
   "outputs": [],
   "source": [
    "np.asarray(image).shape"
   ]
  },
  {
   "cell_type": "code",
   "execution_count": null,
   "id": "voluntary-chapter",
   "metadata": {},
   "outputs": [],
   "source": []
  },
  {
   "cell_type": "code",
   "execution_count": null,
   "id": "valued-event",
   "metadata": {},
   "outputs": [],
   "source": [
    "# image_h = random_jitter_boxes(np.asarray(image))\n",
    "# print(image_h.shape)\n",
    "# Image.fromarray(np.uint8(image_h.numpy()))"
   ]
  },
  {
   "cell_type": "code",
   "execution_count": null,
   "id": "experienced-system",
   "metadata": {},
   "outputs": [],
   "source": [
    "import tensorflow as tf\n",
    "from tensorflow.python.framework.convert_to_constants import convert_variables_to_constants_v2"
   ]
  },
  {
   "cell_type": "code",
   "execution_count": null,
   "id": "virtual-philadelphia",
   "metadata": {},
   "outputs": [],
   "source": []
  },
  {
   "cell_type": "code",
   "execution_count": null,
   "id": "automated-chemical",
   "metadata": {},
   "outputs": [],
   "source": []
  },
  {
   "cell_type": "code",
   "execution_count": null,
   "id": "informational-chorus",
   "metadata": {},
   "outputs": [],
   "source": []
  },
  {
   "cell_type": "code",
   "execution_count": null,
   "id": "favorite-sport",
   "metadata": {},
   "outputs": [],
   "source": []
  },
  {
   "cell_type": "code",
   "execution_count": null,
   "id": "compatible-lunch",
   "metadata": {},
   "outputs": [],
   "source": []
  },
  {
   "cell_type": "code",
   "execution_count": null,
   "id": "least-calibration",
   "metadata": {},
   "outputs": [],
   "source": []
  },
  {
   "cell_type": "code",
   "execution_count": null,
   "id": "social-shuttle",
   "metadata": {},
   "outputs": [],
   "source": [
    "# frozen_func.graph.as_graph_def?"
   ]
  },
  {
   "cell_type": "code",
   "execution_count": null,
   "id": "entire-hawaii",
   "metadata": {},
   "outputs": [],
   "source": []
  },
  {
   "cell_type": "code",
   "execution_count": null,
   "id": "orange-creature",
   "metadata": {},
   "outputs": [],
   "source": []
  },
  {
   "cell_type": "code",
   "execution_count": null,
   "id": "patent-bedroom",
   "metadata": {},
   "outputs": [],
   "source": [
    "input_layer = layers[0]\n",
    "layer2 = layers[1]"
   ]
  },
  {
   "cell_type": "code",
   "execution_count": null,
   "id": "instructional-brand",
   "metadata": {},
   "outputs": [],
   "source": [
    "frozen_func.outputs"
   ]
  },
  {
   "cell_type": "code",
   "execution_count": null,
   "id": "acting-scheme",
   "metadata": {},
   "outputs": [],
   "source": []
  }
 ],
 "metadata": {
  "kernelspec": {
   "display_name": "Python 3",
   "language": "python",
   "name": "python3"
  },
  "language_info": {
   "codemirror_mode": {
    "name": "ipython",
    "version": 3
   },
   "file_extension": ".py",
   "mimetype": "text/x-python",
   "name": "python",
   "nbconvert_exporter": "python",
   "pygments_lexer": "ipython3",
   "version": "3.7.5"
  }
 },
 "nbformat": 4,
 "nbformat_minor": 5
}
