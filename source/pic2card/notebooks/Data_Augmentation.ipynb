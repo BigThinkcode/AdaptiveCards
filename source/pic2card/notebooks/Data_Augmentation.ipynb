{
 "cells": [
  {
   "cell_type": "code",
   "execution_count": null,
   "id": "printable-boulder",
   "metadata": {},
   "outputs": [],
   "source": [
    "import numpy as np\n",
    "import pandas as pd\n",
    "from PIL import Image\n",
    "from IPython import display\n",
    "\n",
    "import matplotlib.pyplot as plt\n",
    "\n",
    "%matplotlib inline"
   ]
  },
  {
   "cell_type": "code",
   "execution_count": null,
   "id": "superior-cuisine",
   "metadata": {},
   "outputs": [],
   "source": [
    "# Installed directly form the tf-models object_detection, no\n",
    "# direct pip package available.\n",
    "import object_detection as od\n",
    "from object_detection.core.preprocessor import (random_horizontal_flip, random_pixel_value_scale, random_adjust_contrast, random_adjust_hue,\n",
    "                                                random_rgb_to_gray, random_crop_image, random_adjust_brightness, random_adjust_saturation,\n",
    "                                               random_adjust_saturation, random_horizontal_flip, random_vertical_flip, random_distort_color,\n",
    "                                               random_downscale_to_target_pixels, random_image_scale, random_jitter_boxes, random_jpeg_quality,\n",
    "                                               adjust_gamma, random_downscale_to_target_pixels, random_patch_gaussian)"
   ]
  },
  {
   "cell_type": "code",
   "execution_count": null,
   "id": "adapted-optimization",
   "metadata": {},
   "outputs": [],
   "source": [
    "image = Image.open(\"/home/haridas/projects/mystique/data/pic2card_dataset_03_mar_2021/train/10.png\")"
   ]
  },
  {
   "cell_type": "code",
   "execution_count": null,
   "id": "cognitive-forward",
   "metadata": {},
   "outputs": [],
   "source": [
    "image"
   ]
  },
  {
   "cell_type": "code",
   "execution_count": null,
   "id": "manufactured-kazakhstan",
   "metadata": {},
   "outputs": [],
   "source": []
  },
  {
   "cell_type": "code",
   "execution_count": null,
   "id": "electrical-practitioner",
   "metadata": {},
   "outputs": [],
   "source": [
    "# Image.fromarray(np.asarray(image))"
   ]
  },
  {
   "cell_type": "code",
   "execution_count": null,
   "id": "turned-hopkins",
   "metadata": {},
   "outputs": [],
   "source": [
    "plt.figure(figsize=(5,4)); plt.imshow(np.asarray(image))"
   ]
  },
  {
   "cell_type": "code",
   "execution_count": null,
   "id": "deadly-advocacy",
   "metadata": {},
   "outputs": [],
   "source": [
    "image_hue = random_adjust_contrast(np.asarray(image), min_delta=1, max_delta=5, seed=10).numpy()\n",
    "plt.figure(figsize=(10,8))\n",
    "plt.imshow(np.uint8(image_hue))"
   ]
  },
  {
   "cell_type": "code",
   "execution_count": null,
   "id": "unknown-night",
   "metadata": {},
   "outputs": [],
   "source": [
    "image_hue = random_adjust_hue(np.asarray(image), max_delta=1.0, seed=10).numpy()\n",
    "plt.figure(figsize=(5,4))\n",
    "# plt.imshow(image_hue)\n",
    "plt.imshow(np.uint8(image_hue))"
   ]
  },
  {
   "cell_type": "code",
   "execution_count": null,
   "id": "plastic-positive",
   "metadata": {},
   "outputs": [],
   "source": [
    "image_hue = random_adjust_saturation(np.asarray(image), min_delta=0.8, max_delta=1.8, seed=10).numpy()\n",
    "plt.figure(figsize=(10,8))\n",
    "plt.imshow(np.uint8(image_hue))"
   ]
  },
  {
   "cell_type": "code",
   "execution_count": null,
   "id": "peaceful-hammer",
   "metadata": {},
   "outputs": [],
   "source": [
    "image_hue = random_rgb_to_gray(np.asarray(image), probability=0.8, seed=10)\n",
    "plt.figure(figsize=(5,4))\n",
    "plt.imshow(np.uint8(image_hue))"
   ]
  },
  {
   "cell_type": "code",
   "execution_count": null,
   "id": "personal-moldova",
   "metadata": {},
   "outputs": [],
   "source": []
  },
  {
   "cell_type": "code",
   "execution_count": null,
   "id": "improved-request",
   "metadata": {},
   "outputs": [],
   "source": [
    "image_hue = random_adjust_brightness(np.asarray(image), max_delta=0.2, seed=10)\n",
    "plt.figure(figsize=(6,4))\n",
    "plt.imshow(np.uint8(image_hue))"
   ]
  },
  {
   "cell_type": "code",
   "execution_count": null,
   "id": "reduced-stewart",
   "metadata": {},
   "outputs": [],
   "source": [
    "# random_horizontal_flip?\n",
    "np.asarray(image).shape"
   ]
  },
  {
   "cell_type": "code",
   "execution_count": null,
   "id": "affected-swing",
   "metadata": {},
   "outputs": [],
   "source": [
    "image_h = random_horizontal_flip(np.asarray(image))[0]\n",
    "plt.figure(figsize=(5,4))\n",
    "plt.imshow(np.uint8(image_h))"
   ]
  },
  {
   "cell_type": "code",
   "execution_count": null,
   "id": "drawn-nylon",
   "metadata": {},
   "outputs": [],
   "source": [
    "# image_h = random_vertical_flip(np.asarray(image))[0]\n",
    "# plt.figure(figsize=(5,4))\n",
    "# plt.imshow(np.uint8(image_h))"
   ]
  },
  {
   "cell_type": "code",
   "execution_count": null,
   "id": "dimensional-monster",
   "metadata": {},
   "outputs": [],
   "source": [
    "image_h = random_pixel_value_scale(np.asarray(image), minval=1.0, maxval=1.2)\n",
    "plt.figure(figsize=(10,8))\n",
    "print(image_h.shape)\n",
    "plt.imshow(np.uint8(image_h))"
   ]
  },
  {
   "cell_type": "code",
   "execution_count": null,
   "id": "automatic-stock",
   "metadata": {},
   "outputs": [],
   "source": [
    "# Image.fromarray(np.uint8(image_h))\n",
    "# random_image_scale?"
   ]
  },
  {
   "cell_type": "code",
   "execution_count": null,
   "id": "deluxe-marble",
   "metadata": {},
   "outputs": [],
   "source": [
    "image_h = random_image_scale(np.asarray(image), min_scale_ratio=0.8, max_scale_ratio=1.9, seed=122)[0]\n",
    "plt.figure(figsize=(10,8))\n",
    "# plt.imshow(np.uint8(image_h))\n",
    "print (image_h.shape)"
   ]
  },
  {
   "cell_type": "code",
   "execution_count": null,
   "id": "designing-retro",
   "metadata": {},
   "outputs": [],
   "source": [
    "# image_h = adjust_gamma(np.asarray(image), gamma=8, gain=2)\n",
    "# plt.figure(figsize=(5,4))\n",
    "# plt.imshow(np.uint8(image_h))"
   ]
  },
  {
   "cell_type": "code",
   "execution_count": null,
   "id": "numerical-supplier",
   "metadata": {},
   "outputs": [],
   "source": [
    "image_h = random_distort_color(np.asarray(image))\n",
    "plt.figure(figsize=(10,8))\n",
    "plt.imshow(np.uint8(image_h))"
   ]
  },
  {
   "cell_type": "code",
   "execution_count": null,
   "id": "engaging-forum",
   "metadata": {},
   "outputs": [],
   "source": [
    "# np.uint8(image_h.numpy())"
   ]
  },
  {
   "cell_type": "code",
   "execution_count": null,
   "id": "labeled-laptop",
   "metadata": {},
   "outputs": [],
   "source": [
    "# image_h = random_patch_gaussian(np.asarray(image))\n",
    "# plt.figure(figsize=(10,8))\n",
    "# plt.imshow(np.uint8(image_h))"
   ]
  },
  {
   "cell_type": "code",
   "execution_count": null,
   "id": "ceramic-aspect",
   "metadata": {},
   "outputs": [],
   "source": []
  },
  {
   "cell_type": "code",
   "execution_count": null,
   "id": "pretty-reply",
   "metadata": {},
   "outputs": [],
   "source": []
  },
  {
   "cell_type": "code",
   "execution_count": null,
   "id": "broadband-trading",
   "metadata": {},
   "outputs": [],
   "source": [
    "# plt.imshow(np.asarray(image.convert(\"RGB\")))"
   ]
  },
  {
   "cell_type": "code",
   "execution_count": null,
   "id": "secret-ranking",
   "metadata": {},
   "outputs": [],
   "source": [
    "# image_h.numpy()\n",
    "image_h = random_jpeg_quality(np.asarray(image.convert(\"RGB\")), min_jpeg_quality=40, max_jpeg_quality=100)\n",
    "# Image.fromarray(np.uint8(image_h.numpy()))\n",
    "plt.figure(figsize=(10,8))\n",
    "print(image_h.shape)\n",
    "plt.imshow(np.uint8(image_h))"
   ]
  },
  {
   "cell_type": "code",
   "execution_count": null,
   "id": "fifteen-turkish",
   "metadata": {},
   "outputs": [],
   "source": [
    "# random_downscale_to_target_pixels?"
   ]
  },
  {
   "cell_type": "code",
   "execution_count": null,
   "id": "consecutive-pipeline",
   "metadata": {},
   "outputs": [],
   "source": [
    "# # image_h.numpy()\n",
    "# image_h = random_downscale_to_target_pixels(np.asarray(image))\n",
    "# Image.fromarray(np.uint8(image_h.numpy()))"
   ]
  },
  {
   "cell_type": "code",
   "execution_count": null,
   "id": "prostate-polymer",
   "metadata": {},
   "outputs": [],
   "source": []
  }
 ],
 "metadata": {
  "kernelspec": {
   "display_name": "Python 3",
   "language": "python",
   "name": "python3"
  },
  "language_info": {
   "codemirror_mode": {
    "name": "ipython",
    "version": 3
   },
   "file_extension": ".py",
   "mimetype": "text/x-python",
   "name": "python",
   "nbconvert_exporter": "python",
   "pygments_lexer": "ipython3",
   "version": "3.7.5"
  }
 },
 "nbformat": 4,
 "nbformat_minor": 5
}
